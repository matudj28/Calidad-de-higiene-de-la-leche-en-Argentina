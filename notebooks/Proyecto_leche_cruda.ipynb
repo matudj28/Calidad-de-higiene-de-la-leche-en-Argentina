{
  "cells": [
    {
      "cell_type": "code",
      "execution_count": 4,
      "metadata": {},
      "outputs": [
        {
          "name": "stdout",
          "output_type": "stream",
          "text": [
            "El archivo existe en la ruta especificada.\n",
            "El archivo existe en la ruta especificada.\n",
            "El archivo existe en la ruta especificada.\n",
            "El archivo existe en la ruta especificada.\n"
          ]
        }
      ],
      "source": [
        "import os\n",
        "\n",
        "file_path1 = '../data/raw/Data Set calidad a nivel nacional/recuento-de-celulas-somaticas-promedio-nacional.csv'\n",
        "file_path2 = '../data/raw/Data Set calidad a nivel nacional/unidades-formadoras-de-colonias-promedio-nacional.csv'\n",
        "file_path3 = '../data/raw/Data Set calidad a nivel provincial/recuento-de-celulas-somaticas-promedio-por-provincia.csv'\n",
        "file_path4 = '../data/raw/Data Set calidad a nivel provincial/unidades-formadoras-de-colonias-promedio-por-provincia.csv'\n",
        "\n",
        "# Comprobar si el archivo existe\n",
        "if os.path.exists(file_path1):\n",
        "    print(\"El archivo existe en la ruta especificada.\")\n",
        "else:\n",
        "    print(\"El archivo no se encuentra en la ruta especificada.\")\n",
        "\n",
        "if os.path.exists(file_path2):\n",
        "    print(\"El archivo existe en la ruta especificada.\")\n",
        "else:\n",
        "    print(\"El archivo no se encuentra en la ruta especificada.\")\n",
        "\n",
        "if os.path.exists(file_path3):\n",
        "    print(\"El archivo existe en la ruta especificada.\")\n",
        "else:\n",
        "    print(\"El archivo no se encuentra en la ruta especificada.\")\n",
        "\n",
        "if os.path.exists(file_path4):\n",
        "    print(\"El archivo existe en la ruta especificada.\")\n",
        "else:\n",
        "    print(\"El archivo no se encuentra en la ruta especificada.\")"
      ]
    },
    {
      "cell_type": "code",
      "execution_count": 5,
      "metadata": {
        "colab": {
          "base_uri": "https://localhost:8080/"
        },
        "id": "LOWQmgK0abz_",
        "outputId": "8feb0d50-2a92-45b6-d490-99c484aaa513"
      },
      "outputs": [
        {
          "name": "stdout",
          "output_type": "stream",
          "text": [
            "  indice-de-tiempo  pais_id       pais  producto_id     producto  \\\n",
            "0           2013-1       32  Argentina         2211  Leche cruda   \n",
            "1           2013-2       32  Argentina         2211  Leche cruda   \n",
            "2           2013-3       32  Argentina         2211  Leche cruda   \n",
            "3           2013-4       32  Argentina         2211  Leche cruda   \n",
            "4           2013-5       32  Argentina         2211  Leche cruda   \n",
            "\n",
            "   unidad_de medida  cantidad  \n",
            "0  miles de células       448  \n",
            "1  miles de células       450  \n",
            "2  miles de células       417  \n",
            "3  miles de células       410  \n",
            "4  miles de células       388  \n",
            "  indice-de-tiempo  pais_id       pais  producto_id     producto  \\\n",
            "0           2013-1       32  Argentina         2211  Leche cruda   \n",
            "1           2013-2       32  Argentina         2211  Leche cruda   \n",
            "2           2013-3       32  Argentina         2211  Leche cruda   \n",
            "3           2013-4       32  Argentina         2211  Leche cruda   \n",
            "4           2013-5       32  Argentina         2211  Leche cruda   \n",
            "\n",
            "    unidad_de medida  cantidad  \n",
            "0  miles de unidades       131  \n",
            "1  miles de unidades       137  \n",
            "2  miles de unidades       119  \n",
            "3  miles de unidades       122  \n",
            "4  miles de unidades       108  \n",
            "  indice-de-tiempo  pais_id       pais  provincia_id     provincia  \\\n",
            "0          2014-01       32  Argentina             6  Buenos Aires   \n",
            "1          2014-02       32  Argentina             6  Buenos Aires   \n",
            "2          2014-03       32  Argentina             6  Buenos Aires   \n",
            "3          2014-04       32  Argentina             6  Buenos Aires   \n",
            "4          2014-05       32  Argentina             6  Buenos Aires   \n",
            "\n",
            "   producto_id     producto  unidad_de medida  cantidad  \n",
            "0         2211  Leche cruda  miles de células       447  \n",
            "1         2211  Leche cruda  miles de células       483  \n",
            "2         2211  Leche cruda  miles de células       476  \n",
            "3         2211  Leche cruda  miles de células       467  \n",
            "4         2211  Leche cruda  miles de células       467  \n",
            "  indice-de-tiempo  pais_id       pais  provincia_id     provincia  \\\n",
            "0          2014-01       32  Argentina             6  Buenos Aires   \n",
            "1          2014-02       32  Argentina             6  Buenos Aires   \n",
            "2          2014-03       32  Argentina             6  Buenos Aires   \n",
            "3          2014-04       32  Argentina             6  Buenos Aires   \n",
            "4          2014-05       32  Argentina             6  Buenos Aires   \n",
            "\n",
            "   producto_id     producto   unidad_de medida  cantidad  \n",
            "0         2211  Leche cruda  miles de unidades       109  \n",
            "1         2211  Leche cruda  miles de unidades       121  \n",
            "2         2211  Leche cruda  miles de unidades       115  \n",
            "3         2211  Leche cruda  miles de unidades       117  \n",
            "4         2211  Leche cruda  miles de unidades        90  \n"
          ]
        }
      ],
      "source": [
        "import pandas as pd\n",
        "\n",
        "#Cargamos cada uno de los datasets\n",
        "df_ccs_nacional = pd.read_csv(file_path1, encoding= \"latin1\")\n",
        "df_ufc_nacional = pd.read_csv(file_path2, encoding= \"latin1\")\n",
        "df_ccs_provincial = pd.read_csv(file_path3, encoding= \"latin1\")\n",
        "df_ufc_provincial = pd.read_csv(file_path4, encoding= \"latin1\")\n",
        "\n",
        "print(df_ccs_nacional.head())\n",
        "print(df_ufc_nacional.head())\n",
        "print(df_ccs_provincial.head())\n",
        "print(df_ufc_provincial.head())"
      ]
    },
    {
      "cell_type": "code",
      "execution_count": 6,
      "metadata": {
        "colab": {
          "base_uri": "https://localhost:8080/"
        },
        "id": "t3w9V98lchOC",
        "outputId": "83f13210-7ab3-4937-9611-39413b6e560c"
      },
      "outputs": [
        {
          "name": "stdout",
          "output_type": "stream",
          "text": [
            "   indice-de-tiempo  pais_id       pais  producto_id     producto  \\\n",
            "12           2014-1       32  Argentina         2211  Leche cruda   \n",
            "13           2014-2       32  Argentina         2211  Leche cruda   \n",
            "14           2014-3       32  Argentina         2211  Leche cruda   \n",
            "15           2014-4       32  Argentina         2211  Leche cruda   \n",
            "16           2014-5       32  Argentina         2211  Leche cruda   \n",
            "\n",
            "    unidad_de medida  cantidad      fecha  \n",
            "12  miles de células       433 2014-01-01  \n",
            "13  miles de células       487 2014-02-01  \n",
            "14  miles de células       524 2014-03-01  \n",
            "15  miles de células       495 2014-04-01  \n",
            "16  miles de células       471 2014-05-01  \n",
            "   indice-de-tiempo  pais_id       pais  producto_id     producto  \\\n",
            "12           2014-1       32  Argentina         2211  Leche cruda   \n",
            "13           2014-2       32  Argentina         2211  Leche cruda   \n",
            "14           2014-3       32  Argentina         2211  Leche cruda   \n",
            "15           2014-4       32  Argentina         2211  Leche cruda   \n",
            "16           2014-5       32  Argentina         2211  Leche cruda   \n",
            "\n",
            "     unidad_de medida  cantidad      fecha  \n",
            "12  miles de unidades       123 2014-01-01  \n",
            "13  miles de unidades       165 2014-02-01  \n",
            "14  miles de unidades       120 2014-03-01  \n",
            "15  miles de unidades       125 2014-04-01  \n",
            "16  miles de unidades       102 2014-05-01  \n",
            "  indice-de-tiempo  pais_id       pais  provincia_id     provincia  \\\n",
            "0          2014-01       32  Argentina             6  Buenos Aires   \n",
            "1          2014-02       32  Argentina             6  Buenos Aires   \n",
            "2          2014-03       32  Argentina             6  Buenos Aires   \n",
            "3          2014-04       32  Argentina             6  Buenos Aires   \n",
            "4          2014-05       32  Argentina             6  Buenos Aires   \n",
            "\n",
            "   producto_id     producto  unidad_de medida  cantidad      fecha  \n",
            "0         2211  Leche cruda  miles de células       447 2014-01-01  \n",
            "1         2211  Leche cruda  miles de células       483 2014-02-01  \n",
            "2         2211  Leche cruda  miles de células       476 2014-03-01  \n",
            "3         2211  Leche cruda  miles de células       467 2014-04-01  \n",
            "4         2211  Leche cruda  miles de células       467 2014-05-01  \n",
            "  indice-de-tiempo  pais_id       pais  provincia_id     provincia  \\\n",
            "0          2014-01       32  Argentina             6  Buenos Aires   \n",
            "1          2014-02       32  Argentina             6  Buenos Aires   \n",
            "2          2014-03       32  Argentina             6  Buenos Aires   \n",
            "3          2014-04       32  Argentina             6  Buenos Aires   \n",
            "4          2014-05       32  Argentina             6  Buenos Aires   \n",
            "\n",
            "   producto_id     producto   unidad_de medida  cantidad      fecha  \n",
            "0         2211  Leche cruda  miles de unidades       109 2014-01-01  \n",
            "1         2211  Leche cruda  miles de unidades       121 2014-02-01  \n",
            "2         2211  Leche cruda  miles de unidades       115 2014-03-01  \n",
            "3         2211  Leche cruda  miles de unidades       117 2014-04-01  \n",
            "4         2211  Leche cruda  miles de unidades        90 2014-05-01  \n"
          ]
        }
      ],
      "source": [
        "df_ccs_nacional['fecha'] = pd.to_datetime(df_ccs_nacional['indice-de-tiempo'])\n",
        "df_ufc_nacional['fecha'] = pd.to_datetime(df_ufc_nacional['indice-de-tiempo'])\n",
        "df_ccs_provincial['fecha'] = pd.to_datetime(df_ccs_provincial['indice-de-tiempo'])\n",
        "df_ufc_provincial['fecha'] = pd.to_datetime(df_ufc_provincial['indice-de-tiempo'])\n",
        "\n",
        "df_ccs_nacional = df_ccs_nacional[df_ccs_nacional['fecha'].dt.year > 2013]\n",
        "df_ufc_nacional = df_ufc_nacional[df_ufc_nacional['fecha'].dt.year > 2013]\n",
        "\n",
        "print(df_ccs_nacional.head())\n",
        "print(df_ufc_nacional.head())\n",
        "print(df_ccs_provincial.head())\n",
        "print(df_ufc_provincial.head())"
      ]
    },
    {
      "cell_type": "code",
      "execution_count": 7,
      "metadata": {
        "colab": {
          "base_uri": "https://localhost:8080/"
        },
        "id": "p5gfjKkTe62-",
        "outputId": "d2b2bb95-65cf-4773-c477-4e63200be9f0"
      },
      "outputs": [
        {
          "name": "stdout",
          "output_type": "stream",
          "text": [
            "   indice-de-tiempo  pais_id       pais  producto_id     producto  \\\n",
            "12           2014-1       32  Argentina         2211  Leche cruda   \n",
            "13           2014-2       32  Argentina         2211  Leche cruda   \n",
            "14           2014-3       32  Argentina         2211  Leche cruda   \n",
            "15           2014-4       32  Argentina         2211  Leche cruda   \n",
            "16           2014-5       32  Argentina         2211  Leche cruda   \n",
            "\n",
            "    unidad_de medida  ccs_promedio_nacional      fecha  \n",
            "12  miles de células                    433 2014-01-01  \n",
            "13  miles de células                    487 2014-02-01  \n",
            "14  miles de células                    524 2014-03-01  \n",
            "15  miles de células                    495 2014-04-01  \n",
            "16  miles de células                    471 2014-05-01  \n",
            "   indice-de-tiempo  pais_id       pais  producto_id     producto  \\\n",
            "12           2014-1       32  Argentina         2211  Leche cruda   \n",
            "13           2014-2       32  Argentina         2211  Leche cruda   \n",
            "14           2014-3       32  Argentina         2211  Leche cruda   \n",
            "15           2014-4       32  Argentina         2211  Leche cruda   \n",
            "16           2014-5       32  Argentina         2211  Leche cruda   \n",
            "\n",
            "     unidad_de medida  ufc_promedio_nacional      fecha  \n",
            "12  miles de unidades                    123 2014-01-01  \n",
            "13  miles de unidades                    165 2014-02-01  \n",
            "14  miles de unidades                    120 2014-03-01  \n",
            "15  miles de unidades                    125 2014-04-01  \n",
            "16  miles de unidades                    102 2014-05-01  \n",
            "  indice-de-tiempo  pais_id       pais  provincia_id     provincia  \\\n",
            "0          2014-01       32  Argentina             6  Buenos Aires   \n",
            "1          2014-02       32  Argentina             6  Buenos Aires   \n",
            "2          2014-03       32  Argentina             6  Buenos Aires   \n",
            "3          2014-04       32  Argentina             6  Buenos Aires   \n",
            "4          2014-05       32  Argentina             6  Buenos Aires   \n",
            "\n",
            "   producto_id     producto  unidad_de medida  ccs_promedio_provincial  \\\n",
            "0         2211  Leche cruda  miles de células                      447   \n",
            "1         2211  Leche cruda  miles de células                      483   \n",
            "2         2211  Leche cruda  miles de células                      476   \n",
            "3         2211  Leche cruda  miles de células                      467   \n",
            "4         2211  Leche cruda  miles de células                      467   \n",
            "\n",
            "       fecha  \n",
            "0 2014-01-01  \n",
            "1 2014-02-01  \n",
            "2 2014-03-01  \n",
            "3 2014-04-01  \n",
            "4 2014-05-01  \n",
            "  indice-de-tiempo  pais_id       pais  provincia_id     provincia  \\\n",
            "0          2014-01       32  Argentina             6  Buenos Aires   \n",
            "1          2014-02       32  Argentina             6  Buenos Aires   \n",
            "2          2014-03       32  Argentina             6  Buenos Aires   \n",
            "3          2014-04       32  Argentina             6  Buenos Aires   \n",
            "4          2014-05       32  Argentina             6  Buenos Aires   \n",
            "\n",
            "   producto_id     producto   unidad_de medida  ufc_promedio_provincial  \\\n",
            "0         2211  Leche cruda  miles de unidades                      109   \n",
            "1         2211  Leche cruda  miles de unidades                      121   \n",
            "2         2211  Leche cruda  miles de unidades                      115   \n",
            "3         2211  Leche cruda  miles de unidades                      117   \n",
            "4         2211  Leche cruda  miles de unidades                       90   \n",
            "\n",
            "       fecha  \n",
            "0 2014-01-01  \n",
            "1 2014-02-01  \n",
            "2 2014-03-01  \n",
            "3 2014-04-01  \n",
            "4 2014-05-01  \n"
          ]
        }
      ],
      "source": [
        "df_ccs_nacional = df_ccs_nacional.rename(columns={'cantidad': 'ccs_promedio_nacional'})\n",
        "df_ufc_nacional = df_ufc_nacional.rename(columns={'cantidad': 'ufc_promedio_nacional'})\n",
        "df_ccs_provincial = df_ccs_provincial.rename(columns={'cantidad': 'ccs_promedio_provincial'})\n",
        "df_ufc_provincial = df_ufc_provincial.rename(columns={'cantidad': 'ufc_promedio_provincial'})\n",
        "print(df_ccs_nacional.head())\n",
        "print(df_ufc_nacional.head())\n",
        "print(df_ccs_provincial.head())\n",
        "print(df_ufc_provincial.head())"
      ]
    },
    {
      "cell_type": "code",
      "execution_count": 8,
      "metadata": {
        "colab": {
          "base_uri": "https://localhost:8080/"
        },
        "id": "QhDGYNPvhBuN",
        "outputId": "2a83a4b5-eeaa-4af6-9e75-2dbe10bb75b9"
      },
      "outputs": [
        {
          "name": "stdout",
          "output_type": "stream",
          "text": [
            "    unidad_de medida  ccs_promedio_nacional      fecha\n",
            "12  miles de células                    433 2014-01-01\n",
            "13  miles de células                    487 2014-02-01\n",
            "14  miles de células                    524 2014-03-01\n",
            "15  miles de células                    495 2014-04-01\n",
            "16  miles de células                    471 2014-05-01\n"
          ]
        }
      ],
      "source": [
        "df_ccs_nacional = df_ccs_nacional.drop(['pais_id', 'pais', 'producto_id', 'producto','indice-de-tiempo'], axis=1)\n",
        "print(df_ccs_nacional.head())\n"
      ]
    },
    {
      "cell_type": "code",
      "execution_count": 9,
      "metadata": {
        "colab": {
          "base_uri": "https://localhost:8080/"
        },
        "id": "FIU180nrh3qz",
        "outputId": "11ef9c43-83fe-4c7f-a54d-9b70817922a2"
      },
      "outputs": [
        {
          "name": "stdout",
          "output_type": "stream",
          "text": [
            "     unidad_de medida  ufc_promedio_nacional      fecha\n",
            "12  miles de unidades                    123 2014-01-01\n",
            "13  miles de unidades                    165 2014-02-01\n",
            "14  miles de unidades                    120 2014-03-01\n",
            "15  miles de unidades                    125 2014-04-01\n",
            "16  miles de unidades                    102 2014-05-01\n"
          ]
        }
      ],
      "source": [
        "df_ufc_nacional = df_ufc_nacional.drop(['pais_id', 'pais', 'producto_id', 'producto','indice-de-tiempo'], axis=1)\n",
        "print(df_ufc_nacional.head())"
      ]
    },
    {
      "cell_type": "code",
      "execution_count": 10,
      "metadata": {
        "colab": {
          "base_uri": "https://localhost:8080/"
        },
        "id": "063Mm_mAiHtj",
        "outputId": "a99fa6ad-228a-470e-89b1-a0c5f898fab5"
      },
      "outputs": [
        {
          "name": "stdout",
          "output_type": "stream",
          "text": [
            "      provincia  unidad_de medida  ccs_promedio_provincial      fecha\n",
            "0  Buenos Aires  miles de células                      447 2014-01-01\n",
            "1  Buenos Aires  miles de células                      483 2014-02-01\n",
            "2  Buenos Aires  miles de células                      476 2014-03-01\n",
            "3  Buenos Aires  miles de células                      467 2014-04-01\n",
            "4  Buenos Aires  miles de células                      467 2014-05-01\n"
          ]
        }
      ],
      "source": [
        "df_ccs_provincial = df_ccs_provincial.drop(['pais_id', 'pais', 'producto_id', 'producto','indice-de-tiempo', 'provincia_id'], axis=1)\n",
        "print(df_ccs_provincial.head())"
      ]
    },
    {
      "cell_type": "code",
      "execution_count": 11,
      "metadata": {
        "colab": {
          "base_uri": "https://localhost:8080/"
        },
        "id": "Zex51Ao1jPyP",
        "outputId": "7ade2b10-611d-4067-fbe3-f2ac9b8ac450"
      },
      "outputs": [
        {
          "name": "stdout",
          "output_type": "stream",
          "text": [
            "      provincia   unidad_de medida  ufc_promedio_provincial      fecha\n",
            "0  Buenos Aires  miles de unidades                      109 2014-01-01\n",
            "1  Buenos Aires  miles de unidades                      121 2014-02-01\n",
            "2  Buenos Aires  miles de unidades                      115 2014-03-01\n",
            "3  Buenos Aires  miles de unidades                      117 2014-04-01\n",
            "4  Buenos Aires  miles de unidades                       90 2014-05-01\n"
          ]
        }
      ],
      "source": [
        "df_ufc_provincial = df_ufc_provincial.drop(['pais_id', 'pais', 'producto_id', 'producto','indice-de-tiempo', 'provincia_id'], axis=1)\n",
        "print(df_ufc_provincial.head())"
      ]
    },
    {
      "cell_type": "code",
      "execution_count": 12,
      "metadata": {
        "colab": {
          "base_uri": "https://localhost:8080/"
        },
        "id": "IN79XYGSpbXO",
        "outputId": "18beca38-3cc2-4c8a-89e9-22bb0a3fb8d8"
      },
      "outputs": [
        {
          "name": "stdout",
          "output_type": "stream",
          "text": [
            "    ccs_promedio_nacional      fecha\n",
            "12                    433 2014-01-01\n",
            "13                    487 2014-02-01\n",
            "14                    524 2014-03-01\n",
            "15                    495 2014-04-01\n",
            "16                    471 2014-05-01\n",
            "    ufc_promedio_nacional      fecha\n",
            "12                    123 2014-01-01\n",
            "13                    165 2014-02-01\n",
            "14                    120 2014-03-01\n",
            "15                    125 2014-04-01\n",
            "16                    102 2014-05-01\n",
            "      provincia  ccs_promedio_provincial      fecha\n",
            "0  Buenos Aires                      447 2014-01-01\n",
            "1  Buenos Aires                      483 2014-02-01\n",
            "2  Buenos Aires                      476 2014-03-01\n",
            "3  Buenos Aires                      467 2014-04-01\n",
            "4  Buenos Aires                      467 2014-05-01\n",
            "      provincia  ufc_promedio_provincial      fecha\n",
            "0  Buenos Aires                      109 2014-01-01\n",
            "1  Buenos Aires                      121 2014-02-01\n",
            "2  Buenos Aires                      115 2014-03-01\n",
            "3  Buenos Aires                      117 2014-04-01\n",
            "4  Buenos Aires                       90 2014-05-01\n"
          ]
        }
      ],
      "source": [
        "df_ccs_nacional = df_ccs_nacional.drop(['unidad_de medida'], axis=1)\n",
        "df_ufc_nacional = df_ufc_nacional.drop(['unidad_de medida'], axis=1)\n",
        "df_ccs_provincial = df_ccs_provincial.drop(['unidad_de medida'], axis=1)\n",
        "df_ufc_provincial = df_ufc_provincial.drop(['unidad_de medida'], axis=1)\n",
        "print(df_ccs_nacional.head())\n",
        "print(df_ufc_nacional.head())\n",
        "print(df_ccs_provincial.head())\n",
        "print(df_ufc_provincial.head())"
      ]
    },
    {
      "cell_type": "code",
      "execution_count": 13,
      "metadata": {
        "colab": {
          "base_uri": "https://localhost:8080/"
        },
        "id": "7NnplWl6p7m1",
        "outputId": "4ad869cf-95d6-40ce-9677-1f5d90082dfb"
      },
      "outputs": [
        {
          "name": "stdout",
          "output_type": "stream",
          "text": [
            "   ccs_promedio_nacional      fecha  ufc_promedio_nacional\n",
            "0                    433 2014-01-01                    123\n",
            "1                    487 2014-02-01                    165\n",
            "2                    524 2014-03-01                    120\n",
            "3                    495 2014-04-01                    125\n",
            "4                    471 2014-05-01                    102\n",
            "      provincia  ccs_promedio_provincial      fecha  ufc_promedio_provincial\n",
            "0  Buenos Aires                      447 2014-01-01                      109\n",
            "1  Buenos Aires                      483 2014-02-01                      121\n",
            "2  Buenos Aires                      476 2014-03-01                      115\n",
            "3  Buenos Aires                      467 2014-04-01                      117\n",
            "4  Buenos Aires                      467 2014-05-01                       90\n"
          ]
        }
      ],
      "source": [
        "# Unificar datasets a nivel nacional\n",
        "df_nacional = pd.merge(df_ccs_nacional, df_ufc_nacional, on='fecha')\n",
        "\n",
        "# Unificar datasets a nivel provincial\n",
        "df_provincial = pd.merge(df_ccs_provincial, df_ufc_provincial, on=['fecha', 'provincia'])\n",
        "\n",
        "print(df_nacional.head())\n",
        "print(df_provincial.head())"
      ]
    },
    {
      "cell_type": "code",
      "execution_count": 14,
      "metadata": {
        "colab": {
          "base_uri": "https://localhost:8080/"
        },
        "id": "W7lXqJY7rMz3",
        "outputId": "72e0eca9-d13f-431e-8977-0c5ce2517c5c"
      },
      "outputs": [
        {
          "name": "stdout",
          "output_type": "stream",
          "text": [
            "       fecha  ccs_promedio_nacional  ufc_promedio_nacional\n",
            "0 2014-01-01                    433                    123\n",
            "1 2014-02-01                    487                    165\n",
            "2 2014-03-01                    524                    120\n",
            "3 2014-04-01                    495                    125\n",
            "4 2014-05-01                    471                    102\n",
            "        fecha  ccs_promedio_nacional  ufc_promedio_nacional\n",
            "59 2018-12-01                    423                    122\n",
            "60 2019-01-01                    419                    110\n",
            "61 2019-02-01                    452                     99\n",
            "62 2019-03-01                    432                     85\n",
            "63 2019-04-01                    406                     80\n"
          ]
        }
      ],
      "source": [
        "df_final_nacional = df_nacional[['fecha', 'ccs_promedio_nacional', 'ufc_promedio_nacional']]\n",
        "print(df_final_nacional.head())\n",
        "print(df_final_nacional.tail())"
      ]
    },
    {
      "cell_type": "code",
      "execution_count": 15,
      "metadata": {
        "id": "20zyTAdq5dNa"
      },
      "outputs": [],
      "source": [
        "df_final_nacional.to_csv('df_final_nacional.csv', index=False)"
      ]
    },
    {
      "cell_type": "code",
      "execution_count": 16,
      "metadata": {
        "colab": {
          "base_uri": "https://localhost:8080/"
        },
        "id": "XdARS5NygXTU",
        "outputId": "12d9daae-3c8a-42cf-addb-3b289e3cfaf4"
      },
      "outputs": [
        {
          "name": "stdout",
          "output_type": "stream",
          "text": [
            "       fecha     provincia  ccs_promedio_provincial  ufc_promedio_provincial\n",
            "0 2014-01-01  Buenos Aires                      447                      109\n",
            "1 2014-02-01  Buenos Aires                      483                      121\n",
            "2 2014-03-01  Buenos Aires                      476                      115\n",
            "3 2014-04-01  Buenos Aires                      467                      117\n",
            "4 2014-05-01  Buenos Aires                      467                       90\n",
            "         fecha            provincia  ccs_promedio_provincial  \\\n",
            "379 2018-12-01  Santiago del Estero                      401   \n",
            "380 2019-01-01  Santiago del Estero                      456   \n",
            "381 2019-02-01  Santiago del Estero                      509   \n",
            "382 2019-03-01  Santiago del Estero                      445   \n",
            "383 2019-04-01  Santiago del Estero                      443   \n",
            "\n",
            "     ufc_promedio_provincial  \n",
            "379                       90  \n",
            "380                      129  \n",
            "381                       82  \n",
            "382                       62  \n",
            "383                       81  \n"
          ]
        }
      ],
      "source": [
        "df_final_provincial = df_provincial[['fecha', 'provincia','ccs_promedio_provincial', 'ufc_promedio_provincial']]\n",
        "print(df_final_provincial.head())\n",
        "print(df_final_provincial.tail())"
      ]
    },
    {
      "cell_type": "code",
      "execution_count": 17,
      "metadata": {
        "id": "DfMv25tPgqQy"
      },
      "outputs": [],
      "source": [
        "df_final_provincial.to_csv('df_final_provincial.csv', index=False)"
      ]
    }
  ],
  "metadata": {
    "colab": {
      "provenance": []
    },
    "kernelspec": {
      "display_name": "Python 3",
      "name": "python3"
    },
    "language_info": {
      "codemirror_mode": {
        "name": "ipython",
        "version": 3
      },
      "file_extension": ".py",
      "mimetype": "text/x-python",
      "name": "python",
      "nbconvert_exporter": "python",
      "pygments_lexer": "ipython3",
      "version": "3.11.7"
    }
  },
  "nbformat": 4,
  "nbformat_minor": 0
}
